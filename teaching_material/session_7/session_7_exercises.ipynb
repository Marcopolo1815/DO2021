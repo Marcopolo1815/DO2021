{
 "cells": [
  {
   "cell_type": "markdown",
   "metadata": {},
   "source": [
    "`Remember to make a copy of this notebook !`"
   ]
  },
  {
   "cell_type": "markdown",
   "metadata": {
    "ExecuteTime": {
     "end_time": "2017-08-23T15:30:03.634114Z",
     "start_time": "2017-08-23T15:30:03.629294Z"
    }
   },
   "source": [
    "# Exercises for Session 7: Data Visualization\n",
    "\n",
    "As mentioned during the lecture, the Python ecosystem has a number of fantastic packages that can do various different plots. We will work mainly with two packages in this course. The first is the classic tool, `matplotlib`, which was an adaptation in the plotting tools from matplotlib (if you don't already have matplotlib installed, run `pip install matplotlib`). The second tool is `seaborn` which is newer module that allows to produce figures with less effort, similar to `ggplot2` in `R`.\n",
    "\n",
    "In this combined teaching module and exercise, we will work with visualizations in python using these two powerful plotting libraries. We will also quickly touch upon using pandas for exploratory plotting. The structure is as follows:\n",
    "1. The Layered Grammar of Graphics\n",
    "2. Plotting One Variable (Exploratory Plotting)\n",
    "3. Plotting Multiple Variables\n",
    "    - Plotting Two Numeric Variables\n",
    "    - Plotting Mixed Variables (Numeric and Categorical)\n",
    "    - Exercises with the Data from Seaborn\n",
    "4. Final Pieces of Advice on Plotting"
   ]
  },
  {
   "cell_type": "markdown",
   "metadata": {},
   "source": [
    "## Loading\n",
    " \n",
    "We will work with the three datasets `iris`, `tips` and `titanic`, all of which you will be loading (through the seaborn library!) using the code below."
   ]
  },
  {
   "cell_type": "code",
   "execution_count": 9,
   "metadata": {},
   "outputs": [],
   "source": [
    "import matplotlib.pyplot as plt\n",
    "import numpy as np \n",
    "import pandas as pd\n",
    "import seaborn as sns\n",
    "\n",
    "%matplotlib inline \n",
    "\n",
    "iris = sns.load_dataset('iris')\n",
    "tips = sns.load_dataset('tips')\n",
    "titanic = sns.load_dataset('titanic')\n",
    "\n",
    "# Ignore some annoying warnings\n",
    "import warnings\n",
    "warnings.filterwarnings('ignore')"
   ]
  },
  {
   "cell_type": "markdown",
   "metadata": {
    "slideshow": {
     "slide_type": "slide"
    }
   },
   "source": [
    "Below we inspect the contents of `tips`:"
   ]
  },
  {
   "cell_type": "code",
   "execution_count": 2,
   "metadata": {
    "slideshow": {
     "slide_type": "-"
    }
   },
   "outputs": [
    {
     "name": "stdout",
     "output_type": "stream",
     "text": [
      "Number of rows: 244 \n",
      "\n",
      "   total_bill   tip     sex smoker  day    time  size\n",
      "0       16.99  1.01  Female     No  Sun  Dinner     2\n",
      "1       10.34  1.66    Male     No  Sun  Dinner     3\n",
      "2       21.01  3.50    Male     No  Sun  Dinner     3\n",
      "3       23.68  3.31    Male     No  Sun  Dinner     2\n",
      "4       24.59  3.61  Female     No  Sun  Dinner     4\n",
      "5       25.29  4.71    Male     No  Sun  Dinner     4\n",
      "6        8.77  2.00    Male     No  Sun  Dinner     2\n"
     ]
    }
   ],
   "source": [
    "print('Number of rows:',len(tips),'\\n')\n",
    "print(tips.head(7))"
   ]
  },
  {
   "cell_type": "markdown",
   "metadata": {
    "slideshow": {
     "slide_type": "slide"
    }
   },
   "source": [
    "# Part 1: The Layered Grammar of Graphics\n",
    "\n",
    "To understand how we actually build that type of figure, we will follow the *layered grammar of graphics*. We go from an empty canvas and fill it up by adding and removing elements."
   ]
  },
  {
   "cell_type": "markdown",
   "metadata": {
    "slideshow": {
     "slide_type": "slide"
    }
   },
   "source": [
    "We start out with introducing some of the most fundamental plots, the histogram. This plot is particularly useful when we want to plot data in one dimension. To understand how, we do that we should know the math behind it.\n",
    "\n",
    "Recall that we have learned about the method called `value_counts` for counting discrete data in Python. In the warm-up exercise below, we want you to count the number of instance of the `total bill` variable in discrete bins in order to get an early idea of the distribution of bills in our data.\n",
    "\n",
    "> **Ex. 4.1.1:** Use the *cut*-method to count the number of instance that the `total_bill` have in discrete bins split by 10\\\\$ apart (from 0\\\\$ to 70\\\\$). Present your data in two pandas Series: One where you count the instances in each bin, and one where you present the counts in relative terms (i.e. divide through by the total number of observations). Remember to sort by the index value.\n",
    "\n",
    "> *Hint:* Note that this is not a plotting exercise, but simply an exercise where we practice turning the numeric data into categorical/discrete data in order to count it."
   ]
  },
  {
   "cell_type": "code",
   "execution_count": 1,
   "metadata": {
    "nbgrader": {
     "grade": false,
     "grade_id": "cell-342c50384461abbd",
     "locked": false,
     "schema_version": 3,
     "solution": true,
     "task": false
    }
   },
   "outputs": [],
   "source": [
    "### BEGIN SOLUTION\n",
    "\n",
    "\n",
    "### END SOLUTION"
   ]
  },
  {
   "cell_type": "markdown",
   "metadata": {},
   "source": [
    "Once we have counted the data, we can make a histogram that shows the counts for different bins, which are made from splitting the data as we did above. The code below produces a histogram which we have customized ourselves using `matplotlib`.\n",
    "\n",
    "*Note:* Before, we chose a bin size of 10 \\\\$. In the plot below, the plot automatically determines the width of the bins."
   ]
  },
  {
   "cell_type": "code",
   "execution_count": null,
   "metadata": {
    "slideshow": {
     "slide_type": "skip"
    }
   },
   "outputs": [],
   "source": [
    "f,ax = plt.subplots()\n",
    "\n",
    "ax.hist( tips['total_bill']) # Choose histogram\n",
    "\n",
    "ax.set_title('Distribution of total bill') # Choose title for plot\n",
    "ax.title.set_fontsize(20) # Choose title font size\n",
    "\n",
    "ax.set_xlabel('Total bill, $') # Choose title x-axis\n",
    "ax.xaxis.label.set_fontsize(16) # Choose font size for a-axis title\n",
    "\n",
    "ax.set_ylabel('Count') # Choose title y-axis\n",
    "ax.yaxis.label.set_fontsize(16) # Choose font size for y-axis title\n",
    "    \n",
    "for item in ax.get_yticklabels()+ax.get_xticklabels():\n",
    "    item.set_fontsize(12) # Choose size of ticks"
   ]
  },
  {
   "cell_type": "markdown",
   "metadata": {},
   "source": [
    "> **Ex. 4.1.2:** Plot histograms for `total_bill` and `tips` side by side. Use the code below to generate same amount of bins in the two plots. Make only one title for the y-axis (`.set_ylabel()`), and make individual titles for the x-axes (`.set_xlabel()`). Choose appropriate font sizes (e.g. `.xaxis.label.set_fontsize()`) and specify a joint title with `.suptitle()` (documentation [here](https://matplotlib.org/2.0.2/api/pyplot_api.html)). Try and change `plt.style.use()` to something else than *default*.\n",
    ">\n",
    "> *Hint*: In order to specify features of each of the two subplots, you can find inspiration in the code above. However, in order to refer to each subplot, you know have to refer to `ax[0]` and `ax[1]` instead of `ax`."
   ]
  },
  {
   "cell_type": "code",
   "execution_count": null,
   "metadata": {
    "nbgrader": {
     "grade": false,
     "grade_id": "cell-a7a4b04ffe86afa5",
     "locked": false,
     "schema_version": 3,
     "solution": true,
     "task": false
    }
   },
   "outputs": [],
   "source": [
    "f, ax = plt.subplots(1,2, sharey=True, figsize=(10,4)) # Explain what each element does!\n",
    "\n",
    "bins_tip = np.arange(11)\n",
    "bins_tb = np.arange(11)*6\n",
    "\n",
    "\n",
    "# BEGIN SOLUTION\n",
    "\n",
    "# YOUR CODE HERE\n",
    "\n",
    "# END SOLUTION"
   ]
  },
  {
   "cell_type": "markdown",
   "metadata": {},
   "source": [
    "# Part 2: Plotting One Variable (Exploratory Plotting)\n",
    "\n",
    "Often, we are only interested in a figure to get brief glimpse of the content, e.g. if you just want to check something yourself. In this case, because your audience is limited you should choose something that is good enough with little effort. The fastest is to plot directly with `pandas` as it have methods built-in. However, this is often cumbersome and does not produce great results. Therefore, we recommend using `seaborn` which we will focus on in the remainder of this module.\n",
    "\n",
    "Session 7 taught us how to can make a smoothed distribution plot using a kernel. These approximate the frequency by interpolate the count of observations within some bandwith. We will use `seaborn` to make the plot but modify it using `matplotlib`. We also show how to think about plotting, when you only have one categorical variable."
   ]
  },
  {
   "cell_type": "markdown",
   "metadata": {},
   "source": [
    "> **Ex. 4.2.1:** Plot histograms for both the density and the cumulative density of `tips` side by side using the code below and filling in the middle area. Make sure to plot both histograms and the smoothed densities and remember labels for each y-axis. Use `.despine()` to make your plot nicer to look at.\n",
    ">\n",
    "> *Hint:* In order to make two subplots, notice that `distplot` takes `ax` as an argument the following way: `sns.distplot([code], ax=ax[i])`. You can also see [this question](https://stackoverflow.com/questions/41384040/subplot-for-seaborn-boxplot) on stackoverflow for inspiration."
   ]
  },
  {
   "cell_type": "code",
   "execution_count": 10,
   "metadata": {
    "nbgrader": {
     "grade": false,
     "grade_id": "cell-fc655e1a3127f38a",
     "locked": false,
     "schema_version": 3,
     "solution": true,
     "task": false
    },
    "scrolled": false
   },
   "outputs": [
    {
     "data": {
      "text/plain": [
       "Text(0.5, 0, 'Tips ($)')"
      ]
     },
     "execution_count": 10,
     "metadata": {},
     "output_type": "execute_result"
    },
    {
     "data": {
      "image/png": "[encoded data removed]",
      "text/plain": [
       "<Figure size 720x288 with 3 Axes>"
      ]
     },
     "metadata": {
      "needs_background": "light"
     },
     "output_type": "display_data"
    }
   ],
   "source": [
    "f,ax = plt.subplots(1,2, sharex=True, figsize=(10,4))\n",
    "\n",
    "### BEGIN SOLUTION\n",
    "\n",
    "# YOUR CODE HERE\n",
    "\n",
    "### END SOLUTION\n",
    "\n",
    "f.add_subplot(111, frame_on=False)\n",
    "plt.tick_params(labelcolor=\"none\", bottom=False, left=False)\n",
    "plt.xlabel(\"Tips ($)\")"
   ]
  },
  {
   "cell_type": "markdown",
   "metadata": {
    "slideshow": {
     "slide_type": "slide"
    }
   },
   "source": [
    "# Part 3: Plotting Multiple Variables\n"
   ]
  },
  {
   "cell_type": "markdown",
   "metadata": {
    "slideshow": {
     "slide_type": "fragment"
    }
   },
   "source": [
    "## Plotting Two Numeric Variables\n",
    "\n",
    "With numeric data, we can plot the relationship between two variables. \n",
    "\n",
    "A common way of plotting this relationship is showing the raw data with point cloud, which is known as a `scatterplot`. This is an effective plot when our dataset is small (e.g. <1000). It can also be used for larger datasets, but then it is a good idea to color by degree of overlap (use the `alpha` keyword). We can also interpolate points in the data, which is what the KDE plot does when we apply it in a two-dimensional context."
   ]
  },
  {
   "cell_type": "markdown",
   "metadata": {
    "slideshow": {
     "slide_type": "fragment"
    }
   },
   "source": [
    "## Plotting Mixed Variables (Numeric and Categorical)\n",
    "\n",
    "When we want to plot multiple variables where at least one is categorical, we can often make multiple plots for each category and combine them in one figure with, say, a color capturing each category. \n",
    "\n",
    "In simple cases, we have one numeric variable and one categorical variable. In this case, we can actually still sometimes represent the data in some type of a scatter plot. However, often it may provide more information to represent the data with bars, 'violins' or boxplots. In more advanced cases, we have two numeric variables and one categorical variable. In these cases, we can create, say, a scatter between the two numeric variables and again use colors to represent a 'third dimension' in the plot.\n",
    "\n",
    "Finally, we might also be in a situation where we just have a lot of variables at hand, and we want to get an idea about how these are interrelated. In such a situation, we may simply need to plot all combinations of pairs of variables against each other. These plots, however, rarely do well when presented to a large audience, but they may help you get an idea about where the interesting correlations in the data lie (i.e. exploratory plotting)."
   ]
  },
  {
   "cell_type": "markdown",
   "metadata": {
    "slideshow": {
     "slide_type": "slide"
    }
   },
   "source": [
    "In this series of exercises, we want you to try and work with the tools from session 7. Try and use Google to find the answers to your questions - this is a tool that is important to become very familiar with.\n",
    "\n",
    "The first exercise uses the *tips* data and is there to get you started.\n",
    "\n",
    "> **Ex. 4.3.1:** The example below shows two plots. The left shows a bar for each day of the week with data. The right shows a box and whiskers plot, which is split by gender/sex. To get started, simply try and alter the code for the left figure and insert the keyword `hue='sex'`. What happens? Also try to change the right figure from `boxplot` to `violinplot`. Explain what the violinplot shows. If you are in doubt, read about violinplots [here](https://towardsdatascience.com/violin-plots-explained-fb1d115e023d?gi=e7601874575d)."
   ]
  },
  {
   "cell_type": "code",
   "execution_count": null,
   "metadata": {
    "scrolled": true,
    "slideshow": {
     "slide_type": "-"
    }
   },
   "outputs": [],
   "source": [
    "f,ax = plt.subplots(1,2, figsize=(10,4))\n",
    "sns.barplot(x='day', y='tip', data=tips, ax=ax[0]) \n",
    "sns.boxplot(x='sex', y='tip', data=tips, ax=ax[1])"
   ]
  },
  {
   "cell_type": "markdown",
   "metadata": {
    "slideshow": {
     "slide_type": "slide"
    }
   },
   "source": [
    "In the next set of plotting exercises, we will turn our attention to the *titanic* dataset. We will create a simple figure from the bottom using the [_grammar of graphics_](http://vita.had.co.nz/papers/layered-grammar.pdf) framework that plots the distribution of passenger age (numeric variable) for different passenger classes (categorical variable).\n",
    "\n",
    "<br>\n",
    "\n",
    "***NOTE:*** Because of the way the jupyter notebooks are made, you will have to complete this exercise in a single code cell. \n",
    "\n",
    "> **Ex. 4.3.2:** Create an empty coordinate system with the *x* axis spanning from 0 to 100 and the *y* axis spanning 0 to 0.05.\n",
    "\n",
    "> **Ex. 4.3.3:** Add three KDE-curves with `seaborn` to the existing axis (get more information about `kdeplot` [here](https://seaborn.pydata.org/generated/seaborn.kdeplot.html)). The KDEs should estimate the density of passenger age within each passenger class. Add a figure title and axis labels. Make sure the legend entries makes sense. *If* you have time, change the colors. _Hint:_ a `for` loop might be useful here.\n",
    "\n",
    "> **Ex. 4.3.4:** Saving plots with matplotlib can be done with the `plt.savefig('file_name.file_format')` method. The supported file formats are `['ps','eps','pdf','pgf','png','raw',rgba','svg','svgz','jpg','jpeg','tif','tiff']`. Choose your preferred file format and save your plot with the filename `ex_334_plot`."
   ]
  },
  {
   "cell_type": "code",
   "execution_count": 2,
   "metadata": {
    "nbgrader": {
     "grade": false,
     "grade_id": "cell-97f32d3c6f5a0dba",
     "locked": false,
     "schema_version": 3,
     "solution": true,
     "task": false
    }
   },
   "outputs": [],
   "source": [
    "### BEGIN SOLUTION\n",
    "\n",
    "\n",
    "\n",
    "### END SOLUTION"
   ]
  },
  {
   "cell_type": "markdown",
   "metadata": {},
   "source": [
    "> **Ex. 4.3.5:** This exercise consists of a set of small subelements: \n",
    "> 1. Use a barplot to show the probability of survival for men and women within each passenger class. \n",
    "> 2. Can you make a boxplot showing the same information (why/why not?). \n",
    "> 3. Show a boxplot for the fare-prices within each passenger class. \n",
    "> 4. Combine the two of the figures you created above into a two-panel figure similar to the one shown here and save the figure as a png file on your computer.\n",
    "> <img src=\"Example2.png\" alt=\"Drawing\" style=\"width: 600px;\"/>\n",
    ">\n",
    ">  _Hint:_ https://seaborn.pydata.org/generated/seaborn.barplot.html, specifically the `hue` option.\n"
   ]
  },
  {
   "cell_type": "code",
   "execution_count": 3,
   "metadata": {
    "nbgrader": {
     "grade": false,
     "grade_id": "cell-082b78c2c96d6c68",
     "locked": false,
     "schema_version": 3,
     "solution": true,
     "task": false
    }
   },
   "outputs": [],
   "source": [
    "### BEGIN SOLUTION\n",
    "\n",
    "\n",
    "\n",
    "### END SOLUTION"
   ]
  },
  {
   "cell_type": "markdown",
   "metadata": {},
   "source": [
    "We move on to the *iris* data that we now want you to explore with a scatter plot. The goal with the plot that you produce in this part of the exercises is to give yourself and your group members an improved understanding of the dataset. Thus, here we want to be able to quickly inspect the data, rather than having a polished, explanatory figure.\n",
    "\n",
    "> **Ex. 4.3.6:** Using the iris flower dataset, draw a scatterplot of sepal length and petal length. Include a second order polynomial fitted to the data. Add a title to the plot and rename the axis labels.\n",
    "> _Discuss:_ Is this a meaningful way to display the data? What could we do differently?\n",
    ">\n",
    "> For a better understanding of the dataset this image might be useful:\n",
    "> <img src=\"iris_pic.png\" alt=\"Drawing\" style=\"width: 200px;\"/>\n",
    ">\n",
    "> _Hint:_ Use the `.regplot` method from seaborn. "
   ]
  },
  {
   "cell_type": "code",
   "execution_count": 4,
   "metadata": {
    "nbgrader": {
     "grade": false,
     "grade_id": "cell-ffad5254ccfdd124",
     "locked": false,
     "schema_version": 3,
     "solution": true,
     "task": false
    },
    "scrolled": false
   },
   "outputs": [],
   "source": [
    "### BEGIN SOLUTION\n",
    "\n",
    "\n",
    "\n",
    "### END SOLUTION"
   ]
  },
  {
   "cell_type": "markdown",
   "metadata": {
    "slideshow": {
     "slide_type": "slide"
    }
   },
   "source": [
    "Sometimes we just want a quick and dirty overview of our dataset. One way is to plot the the pairwise relationships between all variables, which is possible using the pairplot. \n",
    "\n",
    "In the example below we see how this plot quickly provides us within an overview of the association between the variables `tip`, `total_bill` and `size`. Note that we can the kind of plot it uses, e.g. KDE also for the two-way plot."
   ]
  },
  {
   "cell_type": "code",
   "execution_count": null,
   "metadata": {
    "slideshow": {
     "slide_type": "-"
    }
   },
   "outputs": [],
   "source": [
    "sns.pairplot(tips, height=2.3) # make hist and scatter for all"
   ]
  },
  {
   "cell_type": "markdown",
   "metadata": {},
   "source": [
    "> **Ex. 4.3.7:** Use [pairplot with hue](https://seaborn.pydata.org/generated/seaborn.pairplot.html) to create a figure that clearly shows how the different species vary across measurements in the iris dataset. Change the color palette and remove the shading from the density plots. _Bonus:_ Try to explain how the `diag_kws` argument works (_hint:_ [read here](https://stackoverflow.com/questions/1769403/understanding-kwargs-in-python))"
   ]
  },
  {
   "cell_type": "code",
   "execution_count": 5,
   "metadata": {},
   "outputs": [],
   "source": [
    "### BEGIN SOLUTION\n",
    "\n",
    "\n",
    "\n",
    "### END SOLUTION"
   ]
  },
  {
   "cell_type": "markdown",
   "metadata": {
    "slideshow": {
     "slide_type": "slide"
    }
   },
   "source": [
    "The following exercises are optional! They highlight some of the advanced uses of matplotlib and seaborn. These techniques allow you to create customized plots with a lot of versatility. Therefore, these are **_BONUS_** questions.\n",
    "<br>\n",
    "\n",
    "***NOTE:*** Because of the way the jupyter notebooks are made, you will have to complete this exercise in a single code cell. \n",
    "\n",
    "> **Ex. 4.3.8:** *(Bonus)*  Reuse your code from previous exercises, where you used the titanic data and plotted the distribution of passenger ages by the passenger class. Now, add a new subplot that sits within the outer one. Use `[0.55, 0.6, 0.3, 0.2]` the subplots size. At this point your figure should look something like this: \n",
    ">\n",
    "> <img src=\"exampleq4.png\" alt=\"Drawing\" style=\"width: 400px;\"/>\n",
    ">\n",
    ">> _Hint:_ This [link](https://jakevdp.github.io/PythonDataScienceHandbook/04.08-multiple-subplots.html) has some tips for plotting subplots.\n",
    "\n",
    "<br><br>\n",
    "> **Ex. 4.3.9:** *(Bonus)* Move the legend outside the graph window, and add a barplot of survival probabilities split by class to the small subplot. The barplot is introduced below. \n",
    ">\n",
    ">> _Hint:_ [Look here](https://stackoverflow.com/questions/4700614/how-to-put-the-legend-out-of-the-plot) for examples of how to move the legend box around.\n",
    ">\n",
    "> In the end, your figure should look similar to this one:\n",
    "> <img src=\"final5.png\" alt=\"Drawing\" style=\"width: 400px;\"/>\n"
   ]
  },
  {
   "cell_type": "code",
   "execution_count": 6,
   "metadata": {
    "nbgrader": {
     "grade": false,
     "grade_id": "cell-700b1dcfe1277aaf",
     "locked": false,
     "schema_version": 3,
     "solution": true,
     "task": false
    }
   },
   "outputs": [],
   "source": [
    "### BEGIN SOLUTION\n",
    "\n",
    "\n",
    "\n",
    "### END SOLUTION"
   ]
  },
  {
   "cell_type": "markdown",
   "metadata": {
    "slideshow": {
     "slide_type": "fragment"
    }
   },
   "source": [
    "# Part 4: Final Pieces of Advice on Plotting\n",
    "You might be wondering - what are some tips for making **explanatory** plots in a report?  **<font color=\"red\">(Exam relevant!)</font>**\n",
    "\n",
    "1. **Clear narratives - should convey key point(s)**   \n",
    "If you to show difference between groups in data make sure it is easy to distinguish them.\n",
    "\n",
    "\n",
    "2. **Keep simplicity**   \n",
    "Anything unnecessary should be removed, see [this post](https://www.darkhorseanalytics.com/blog/data-looks-better-naked/).\n",
    "\n",
    "\n",
    "3. **Self explanatory**   \n",
    "Contain axis label, title, footnotes in text containing relevant information.\n",
    " \n",
    "\n",
    "4. **Nice appereance**   \n",
    "Choose the right plot type.   \n",
    "Make sure font type, size, colors, line width.\n",
    "  "
   ]
  }
 ],
 "metadata": {
  "kernelspec": {
   "display_name": "Python 3",
   "language": "python",
   "name": "python3"
  },
  "language_info": {
   "codemirror_mode": {
    "name": "ipython",
    "version": 3
   },
   "file_extension": ".py",
   "mimetype": "text/x-python",
   "name": "python",
   "nbconvert_exporter": "python",
   "pygments_lexer": "ipython3",
   "version": "3.7.10"
  },
  "nav_menu": {},
  "toc": {
   "navigate_menu": true,
   "number_sections": false,
   "sideBar": true,
   "threshold": 6,
   "toc_cell": false,
   "toc_section_display": "block",
   "toc_window_display": true
  }
 },
 "nbformat": 4,
 "nbformat_minor": 4
}
